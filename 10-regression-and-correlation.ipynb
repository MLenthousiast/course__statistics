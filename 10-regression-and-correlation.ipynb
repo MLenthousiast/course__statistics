{
 "cells": [
  {
   "cell_type": "code",
   "execution_count": 1,
   "metadata": {
    "collapsed": true
   },
   "outputs": [],
   "source": [
    "%matplotlib inline"
   ]
  },
  {
   "cell_type": "code",
   "execution_count": 2,
   "metadata": {
    "collapsed": true
   },
   "outputs": [],
   "source": [
    "import pandas as pd"
   ]
  },
  {
   "cell_type": "markdown",
   "metadata": {},
   "source": [
    "# Regression\n",
    "When:\n",
    "- x is a quantitative response variable\n",
    "- y is a quantitative explanatory variable\n",
    "\n",
    "What to know?\n",
    "- Is there a association? -> Independence test\n",
    "- How strong is this association? -> Correlation\n",
    "- How can we describe the nature of the association? Regression equation"
   ]
  },
  {
   "cell_type": "markdown",
   "metadata": {},
   "source": [
    "## linear\n",
    "- $y = ax + b$\n",
    "    -$a$: slope\n",
    "    -$b$: intercept\n",
    "- $y$ is an approximation as other forces than $x$ can also ifluence $y$.\n",
    "- *Regression function* describes how the mean $y$ changes when $x$ changes.\n"
   ]
  },
  {
   "cell_type": "code",
   "execution_count": 3,
   "metadata": {},
   "outputs": [
    {
     "data": {
      "text/html": [
       "<div>\n",
       "<table border=\"1\" class=\"dataframe\">\n",
       "  <thead>\n",
       "    <tr style=\"text-align: right;\">\n",
       "      <th></th>\n",
       "      <th>x</th>\n",
       "      <th>y</th>\n",
       "    </tr>\n",
       "  </thead>\n",
       "  <tbody>\n",
       "    <tr>\n",
       "      <th>mean</th>\n",
       "      <td>6.375000</td>\n",
       "      <td>30.375000</td>\n",
       "    </tr>\n",
       "    <tr>\n",
       "      <th>std</th>\n",
       "      <td>2.924649</td>\n",
       "      <td>7.443837</td>\n",
       "    </tr>\n",
       "  </tbody>\n",
       "</table>\n",
       "</div>"
      ],
      "text/plain": [
       "             x          y\n",
       "mean  6.375000  30.375000\n",
       "std   2.924649   7.443837"
      ]
     },
     "execution_count": 3,
     "metadata": {},
     "output_type": "execute_result"
    },
    {
     "data": {
      "image/png": "[encoded data removed]",
      "text/plain": [
       "<matplotlib.figure.Figure at 0x7fcf13e33eb8>"
      ]
     },
     "metadata": {},
     "output_type": "display_data"
    }
   ],
   "source": [
    "df = pd.DataFrame(\n",
    "    data=[[9, 37],\n",
    "          [7, 23],\n",
    "          [7, 26],\n",
    "          [3, 21],\n",
    "          [11, 42],\n",
    "          [6, 33],\n",
    "          [2, 26],\n",
    "          [6, 35]],\n",
    "    columns=['x', 'y'])\n",
    "df.plot(kind='scatter', x='x', y='y');\n",
    "df.describe().loc[['mean', 'std']]"
   ]
  },
  {
   "cell_type": "markdown",
   "metadata": {},
   "source": [
    "### Estimating $a$ and $b$\n",
    "Linear equation: $$\\bar{y} = \\beta x + \\alpha$$"
   ]
  },
  {
   "cell_type": "markdown",
   "metadata": {},
   "source": [
    "###### slope $\\beta$\n",
    "$$\\beta = \\frac{\\sum{(x_{i}-\\bar{x})(y_{i}-\\bar{y})}}{\\sum{(x_{i}-\\bar{x})^{2}}}$$\n",
    "- sign of $\\beta$ describes relation (positive/negative) but its value depends on the units of measure. For a standardized slope that does not depend on units use the *correlation $r$*, see further down."
   ]
  },
  {
   "cell_type": "code",
   "execution_count": 4,
   "metadata": {},
   "outputs": [
    {
     "name": "stdout",
     "output_type": "stream",
     "text": [
      "b = 1.87\n"
     ]
    }
   ],
   "source": [
    "def beta(df):\n",
    "    x_bar = df.x.mean()\n",
    "    y_bar = df.y.mean()\n",
    "    numerator = 0.\n",
    "    for x_i, y_i in zip(df.x, df.y):\n",
    "        numerator += (x_i - x_bar) * (y_i - y_bar)\n",
    "    denominator = 0.\n",
    "    for x_i in df.x:\n",
    "        denominator += (x_i - x_bar)**2\n",
    "    return numerator / denominator\n",
    "        \n",
    "b = beta(df)\n",
    "print('b = {:.2f}'.format(b))"
   ]
  },
  {
   "cell_type": "markdown",
   "metadata": {},
   "source": [
    "###### Intercept $\\alpha$\n",
    "$$\\alpha = \\bar{y}-b\\bar{x}$$"
   ]
  },
  {
   "cell_type": "code",
   "execution_count": 5,
   "metadata": {},
   "outputs": [
    {
     "name": "stdout",
     "output_type": "stream",
     "text": [
      "a = 18.46\n"
     ]
    }
   ],
   "source": [
    "def alpha(df):\n",
    "    y_bar = df.y.mean()\n",
    "    x_bar = df.x.mean()\n",
    "    b = beta(df)\n",
    "    return y_bar - b * x_bar\n",
    "    \n",
    "a = alpha(df)\n",
    "print('a = {:.2f}'.format(a))"
   ]
  },
  {
   "cell_type": "code",
   "execution_count": 6,
   "metadata": {},
   "outputs": [
    {
     "name": "stdout",
     "output_type": "stream",
     "text": [
      "y = 1.87 * x + 18.46\n"
     ]
    }
   ],
   "source": [
    "print('y = {:.2f} * x + {:.2f}'.format(b, a))"
   ]
  },
  {
   "cell_type": "code",
   "execution_count": 7,
   "metadata": {
    "collapsed": true
   },
   "outputs": [],
   "source": [
    "def predict_y(df, i):\n",
    "    return beta(df) * df.x[i] + alpha(df)"
   ]
  },
  {
   "cell_type": "markdown",
   "metadata": {},
   "source": [
    "###### Residual\n",
    "Prediction error along the y-axis: $y_{i} - \\bar{y}$"
   ]
  },
  {
   "cell_type": "code",
   "execution_count": 8,
   "metadata": {},
   "outputs": [
    {
     "name": "stdout",
     "output_type": "stream",
     "text": [
      "Residual = 1.72\n"
     ]
    }
   ],
   "source": [
    "def residual(y_i, y_pred):\n",
    "    return y_i - y_pred\n",
    "\n",
    "res = residual(df.y[0], predict_y(df, 0))\n",
    "print('Residual = {:.2f}'.format(res))"
   ]
  },
  {
   "cell_type": "markdown",
   "metadata": {},
   "source": [
    "###### Least squares property\n",
    "The prediction equation has the smallest *sum of squared errors* compared to all other possible values for $\\alpha$ and $\\beta$."
   ]
  },
  {
   "cell_type": "code",
   "execution_count": 9,
   "metadata": {},
   "outputs": [
    {
     "name": "stdout",
     "output_type": "stream",
     "text": [
      "SSE = 178.84\n"
     ]
    }
   ],
   "source": [
    "def sum_of_squared_errors(df):\n",
    "    b = beta(df)\n",
    "    a = alpha(df)\n",
    "    sse = 0.\n",
    "    for i, (x_i, y_i) in enumerate(zip(df.x, df.y)):\n",
    "        sse += residual(y_i, predict_y(df, i))**2\n",
    "    return sse\n",
    "\n",
    "sse = sum_of_squared_errors(df)\n",
    "print('SSE = {:.2f}'.format(sse))"
   ]
  },
  {
   "cell_type": "markdown",
   "metadata": {},
   "source": [
    "###### Conditional standard deviation of $y$\n",
    "TODO: sigma = s?  \n",
    "The variability of all $y$ values at a certain fixed point of $x$ is described by: $$\\sigma = s = \\sqrt{\\frac{SSE}{n-2}}$$"
   ]
  },
  {
   "cell_type": "code",
   "execution_count": 10,
   "metadata": {},
   "outputs": [
    {
     "name": "stdout",
     "output_type": "stream",
     "text": [
      "Conditional std = 5.46\n"
     ]
    }
   ],
   "source": [
    "def cond_std(df):\n",
    "    sse = sum_of_squared_errors(df)\n",
    "    return (sse / (df.y.count() - 2))**.5\n",
    "\n",
    "cstd = cond_std(df)\n",
    "print('Conditional std = {:.2f}'.format(cstd))"
   ]
  },
  {
   "cell_type": "markdown",
   "metadata": {},
   "source": [
    "###### Mean square error (MSE)\n",
    "$SSE / (n - 2)$"
   ]
  },
  {
   "cell_type": "code",
   "execution_count": 11,
   "metadata": {},
   "outputs": [
    {
     "name": "stdout",
     "output_type": "stream",
     "text": [
      "MSE = 29.81\n"
     ]
    }
   ],
   "source": [
    "def mean_square_error(df):\n",
    "    return sum_of_squared_errors(df) / (df.x.count() - 2)\n",
    "\n",
    "mse = mean_square_error(df)\n",
    "print('MSE = {:.2f}'.format(mse))"
   ]
  },
  {
   "cell_type": "markdown",
   "metadata": {},
   "source": [
    "###### Total sum of squares (TSS)\n",
    "$$TSS = (\\sum{y-\\bar{y}})^{2}$$"
   ]
  },
  {
   "cell_type": "code",
   "execution_count": 12,
   "metadata": {},
   "outputs": [
    {
     "name": "stdout",
     "output_type": "stream",
     "text": [
      "TSS = 387.88\n"
     ]
    }
   ],
   "source": [
    "def total_sum_of_squares(df):\n",
    "    y_mean = df.y.mean()\n",
    "    tss = 0\n",
    "    for y_i in df.y:\n",
    "        tss += (y_i - y_mean)**2\n",
    "    return tss\n",
    "\n",
    "tss = total_sum_of_squares(df)\n",
    "print('TSS = {:.2f}'.format(tss))"
   ]
  },
  {
   "cell_type": "markdown",
   "metadata": {},
   "source": [
    "$$TSS = SSE + Regression SS$$"
   ]
  },
  {
   "cell_type": "code",
   "execution_count": 13,
   "metadata": {},
   "outputs": [
    {
     "name": "stdout",
     "output_type": "stream",
     "text": [
      "TSS = 387.87\n"
     ]
    }
   ],
   "source": [
    "def regression_sum_of_squares(df):\n",
    "    b = beta(df)\n",
    "    a = beta(df)\n",
    "    y_mean = df.y.mean()\n",
    "    rss = 0\n",
    "    for i, x_i in enumerate(df.x):\n",
    "        y_pred = predict_y(df, i)\n",
    "        rss += (y_pred - y_mean)**2\n",
    "    return rss\n",
    "\n",
    "rss = regression_sum_of_squares(df)\n",
    "sse = sum_of_squared_errors(df)\n",
    "tss = sse + rss\n",
    "print('TSS = {:.2f}'.format(tss))"
   ]
  },
  {
   "cell_type": "markdown",
   "metadata": {},
   "source": [
    "###### Correlation $r$\n",
    "$$r = b(s_{x}/s_{y})$$\n",
    "- with $s_{x}$ the sample standard deviation of x.\n",
    "- with $s_{y}$ the sample standard deviation of y.\n",
    "\n",
    "In other words: \"A $1$ std increase in $x$ corresponds with an $r$ std change of $y$.\"\n",
    "\n",
    "properties:\n",
    "- $r$ reflects what $b$ equals when $s_{x} = s_{y}$\n",
    "- $-1 \\leq r leq 1$, with $r$ having the same sign as $b$.\n",
    "- $r=-1$ or $r=1$ when all sample points are exactly on the predicted line.\n",
    "- $r=0$ *can* happen when there is a non-linear association.\n",
    "- The larger $\\left | r \\right |$, the stronger the association."
   ]
  },
  {
   "cell_type": "code",
   "execution_count": 14,
   "metadata": {},
   "outputs": [
    {
     "name": "stdout",
     "output_type": "stream",
     "text": [
      "r = 0.73\n"
     ]
    }
   ],
   "source": [
    "def correlation(df):\n",
    "    return beta(df) * (df.x.std() / df.y.std())\n",
    "\n",
    "r = correlation(df)\n",
    "print('r = {:.2f}'.format(r))"
   ]
  },
  {
   "cell_type": "markdown",
   "metadata": {},
   "source": [
    "###### Proportional reduction in error $r^{2}$ (coefficient of determination)\n",
    "- When we use $x$ in the prediction equation to predict $y$, a summary of prediction error is $SSE$.\n",
    "- When we **do not** use $x$ in the prediction equation to predict $y$, the best predictor is sample mean of $y$, and a summary of prediction error is $TSS$.\n",
    "\n",
    "This means that prediction using $x$ get better as SSE decreases relative to TSS.\n",
    "\n",
    "$$ r^{2} = \\frac{TSS-SSE}{TSS} $$\n",
    "\n",
    "In other words: $100r^{2}\\%$ of the variation in $y$ is explained by $x$.\n",
    "\n",
    "properties:\n",
    "- $0 \\leq r^{2} \\leq 1$\n",
    "- $r^{2} = 1$ when all points fall on a line.\n",
    "- $r^{2} = 0$ when $b = 0$.\n",
    "- $r^{2}$ does not depend on units."
   ]
  },
  {
   "cell_type": "code",
   "execution_count": 15,
   "metadata": {},
   "outputs": [
    {
     "name": "stdout",
     "output_type": "stream",
     "text": [
      "r**2 = 0.54\n"
     ]
    }
   ],
   "source": [
    "def coefficient_of_determination(df):\n",
    "    tss = total_sum_of_squares(df)\n",
    "    sse = sum_of_squared_errors(df)\n",
    "    return (tss - sse) / tss\n",
    "\n",
    "r_squared = coefficient_of_determination(df)\n",
    "print('r**2 = {:.2f}'.format(r_squared))"
   ]
  },
  {
   "cell_type": "markdown",
   "metadata": {},
   "source": [
    "### Inference about slope $\\beta$ and correlation $\\rho$\n",
    "###### Assumptions:\n",
    "- Randomized getting of the data\n",
    "- Linear equation holds\n",
    "- The std $\\sigma$ of the conditional distribution is the same for all $x$.\n",
    "- The conditional distribution of $y$ is normal at each value of $x$.\n",
    "###### Test of independence of $x$ and $y$\n",
    "Parameter: slope $\\beta$\n",
    "Estimator: least squares estimate $b$"
   ]
  },
  {
   "cell_type": "code",
   "execution_count": 16,
   "metadata": {},
   "outputs": [
    {
     "name": "stdout",
     "output_type": "stream",
     "text": [
      "se x = 0.7055585022486118\n",
      "se y = 0.0772413776497985\n"
     ]
    }
   ],
   "source": [
    "def standard_error(df, x):\n",
    "    x_mean = df.x.mean()\n",
    "    s = 0\n",
    "    for x_i in x:\n",
    "        s += (x_i - x_mean)**2\n",
    "    return cond_std(df)/ s**(.5)\n",
    "\n",
    "print('se x = {}'.format(standard_error(df, df.x)))\n",
    "print('se y = {}'.format(standard_error(df, df.y)))"
   ]
  },
  {
   "cell_type": "markdown",
   "metadata": {},
   "source": [
    "### Confidence interval slope $\\beta$\n",
    "CI"
   ]
  }
 ],
 "metadata": {
  "kernelspec": {
   "display_name": "Python 3",
   "language": "python",
   "name": "python3"
  },
  "language_info": {
   "codemirror_mode": {
    "name": "ipython",
    "version": 3
   },
   "file_extension": ".py",
   "mimetype": "text/x-python",
   "name": "python",
   "nbconvert_exporter": "python",
   "pygments_lexer": "ipython3",
   "version": "3.6.0"
  }
 },
 "nbformat": 4,
 "nbformat_minor": 2
}
