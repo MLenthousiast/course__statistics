{
 "cells": [
  {
   "cell_type": "markdown",
   "metadata": {},
   "source": [
    "# Statistics\n",
    "\n",
    "## Content\n",
    "1. [Introduction](01-introduction.ipynb)\n",
    "- [Data and probabilities](02-data-and-probabilities.ipynb)\n",
    "- [Descriptive statistics](03-descriptive-statistics.ipynb)\n",
    "- [Variables and probability distributions](04-variables-and-probability-distributions.ipynb)\n",
    "- [Probability distributions](05-probability-distributions.ipynb)\n",
    "- [Estimation](06-estimation.ipynb)\n",
    "- [Statistical tests](07-statistical-tests.ipynb)"
   ]
  }
 ],
 "metadata": {
  "kernelspec": {
   "display_name": "Python 2",
   "language": "python",
   "name": "python2"
  },
  "language_info": {
   "codemirror_mode": {
    "name": "ipython",
    "version": 2
   },
   "file_extension": ".py",
   "mimetype": "text/x-python",
   "name": "python",
   "nbconvert_exporter": "python",
   "pygments_lexer": "ipython2",
   "version": "2.7.11"
  }
 },
 "nbformat": 4,
 "nbformat_minor": 0
}
