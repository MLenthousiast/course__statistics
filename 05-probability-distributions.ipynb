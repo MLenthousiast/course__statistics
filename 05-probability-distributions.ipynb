{
 "cells": [
  {
   "cell_type": "markdown",
   "metadata": {},
   "source": [
    "## Class 5. Probability distributions.\n",
    "- _Probability mass function_ (PMF): assigns probability to discrete values.\n",
    "- _Probability density function_ (PDF): \"assigns\" probability to continues variables.\n",
    "- _Cumulative distribution funtion_ (CDF): gives the summed probability up to a certain point.\n",
    "- _Point mass distribution_ (PMS) (Puntmassaverdeling): function $F(x)$ classifies points into $0$ and $1$.  \n",
    "- _Discrete uniform distribution_: uniform.\n",
    "- _Continuous uniform distribution_: uniform.\n",
    "- _Bernoulli distribution_: $f(x)=p^{x}(1-p)^{1-x}$ for $x$ between $0$ and $1$.\n",
    "- _Binomial distribution_: $\\binom{n}{x}p^{x}(1-p)^{n-x} $ or $0$.\n",
    "- _Normal distribution_: normal.\n",
    "- Others: Poisson, t, chi-squared"
   ]
  }
 ],
 "metadata": {
  "kernelspec": {
   "display_name": "Python 2",
   "language": "python",
   "name": "python2"
  },
  "language_info": {
   "codemirror_mode": {
    "name": "ipython",
    "version": 2
   },
   "file_extension": ".py",
   "mimetype": "text/x-python",
   "name": "python",
   "nbconvert_exporter": "python",
   "pygments_lexer": "ipython2",
   "version": "2.7.11"
  }
 },
 "nbformat": 4,
 "nbformat_minor": 0
}
