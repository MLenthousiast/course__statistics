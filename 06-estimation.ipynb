{
 "cells": [
  {
   "cell_type": "markdown",
   "metadata": {},
   "source": [
    "## Class 6. Estimation.\n",
    "Quantitative vs qualitative.\n",
    "- Quantitative: inference about the mean. \n",
    "- Qualitative: inference about the proportion. Needs at least $15$ observations for each category.\n",
    "\n",
    "Preferably unbiased and efficient (small error).\n",
    "- _Point estimate_: single statistic value (in case of proportion $\\hat{\\pi}$).\n",
    "- _Interval estimate_: a confidence interval (CI) around a certain point with a fixed confidence level of containing the statistic value.\n",
    "- _Confidence interval_ (CI): interval of numbers believed to contain the parameter value with a certain confidence. Form: point estimate +- margin of error.\n",
    "- _Confidence interval (proportion)_:   \n",
    "**In theory:**  \n",
    "Standard deviation: $\\sigma_ = \\sqrt{\\pi(1-\\pi)}{n}$   \n",
    "Standard error of sample mean: $\\sigma_{\\hat{\\pi}} = \\frac{\\sigma}{\\sqrt{n}} = \\sqrt{\\frac{\\pi(1-\n",
    "\\pi)}{n}}$ with $\\pi$ within $\\hat{\\pi}\\pm z(\\sigma_{\\hat{\\pi}})$.  \n",
    "**In practice:**  \n",
    "$se = \\sqrt{\\frac{\\hat{\\pi}(1-\\hat{\\pi})}{n}}$ using $\\hat{\\pi}\\pm z(se)$ with $p=\\hat{\\pi}$\n",
    "- _Confidence interval (mean)_:  \n",
    "**In theory:**  \n",
    "$\\sigma_{\\bar{y}} = \\frac{\\sigma}{\\sqrt{n}}$, using $\\bar{y}\\pm z(\\sigma_{\\bar{y}})$.  \n",
    "**In practice:**  \n",
    "$se = \\frac{s}{\\sqrt{n}}$, using $\\bar{y}\\pm z(se)$ with $s$ being the point estimate of $\\sigma_{\\bar{y}}$.\n",
    "\n",
    "_T-distribution_:  \n",
    "- Bell-like but a bit larger, depends on degrees of freedom ($df=n-1$). The larger $df$ the more Bell-like, nearly identical when $n\\geq30$.\n",
    "- Assume normal population distribution. Then a $95\\%$ CI for $\\mu$ is: $\\bar{y}\\pm t_{0.25}(se)$, with $se=\\frac{s}{\\sqrt{n}}$ and $df=n-1$.\n",
    "- Somewhat robust to violation of normal population distribution assumption.\n"
   ]
  }
 ],
 "metadata": {
  "kernelspec": {
   "display_name": "Python 2",
   "language": "python",
   "name": "python2"
  },
  "language_info": {
   "codemirror_mode": {
    "name": "ipython",
    "version": 2
   },
   "file_extension": ".py",
   "mimetype": "text/x-python",
   "name": "python",
   "nbconvert_exporter": "python",
   "pygments_lexer": "ipython2",
   "version": "2.7.11"
  }
 },
 "nbformat": 4,
 "nbformat_minor": 0
}
