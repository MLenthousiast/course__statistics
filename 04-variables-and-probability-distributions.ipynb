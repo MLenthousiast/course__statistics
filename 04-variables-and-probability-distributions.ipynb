{
 "cells": [
  {
   "cell_type": "markdown",
   "metadata": {},
   "source": [
    "## Class 4. Variables and probability distributions.\n",
    "- _Stochastic variable_: assigns real value to each outcome ($X:S\\rightarrow  \t\\mathbb{R})$\n",
    "\n",
    "Probability distribution types.\n",
    "- _Population distritubtion_: for example gaussian with $\\sigma$ and $\\mu$.\n",
    "- _Sample (data) distribution_: sample mean $\\bar{y}$ with standard deviation $s$.\n",
    "- _Sampling distribution_: probability distribution for the possible values of a statistic.\n",
    "\n",
    "Frequency vs probability distribution.\n",
    "- _Frequency_: Assigns a frequency to a variable.\n",
    "- _Probability_: Assings a probability to a variable.\n",
    "\n",
    "Probability distributions.\n",
    "- _Discrete_: assings probability to each discrete event.\n",
    "- _Continuous_: assings probability to an interval in the form of Area Under Curve (AUC). Single events have a probability of $0$.\n",
    "\n",
    "Probability distribution variants.\n",
    "- _Binomial_: divides population into proportions.\n",
    "- _Gauss (Normal)_. Standard normal has $\\mu=0$ and $\\sigma=1$.\n",
    "\n",
    "Proportions.\n",
    "- $\\pi$ fall in group A, having value $1$. \n",
    "- $1-\\pi$ fall in group NOT A, having value $0$.\n",
    "- $\\mu = n\\pi$\n",
    "- $\\sigma = \\sqrt{n\\pi(1-\\pi)}$\n",
    "\n",
    "Standard deviation of a probability distribution.\n",
    "- $\\sigma = \\sqrt{\\sum_{i}{(x_{i}-\\mu)^{2}p(x_{i})}}$. Note that each $x_{i}$ has its own probability, so no division by $n$.\n",
    "- $z = \\frac{y-\\mu}{\\sigma}$, or number of std.dev. from the mean.\n",
    "\n",
    "Sampling distribution (Steekproevenverdeling): lists the possible values of a statistic.  \n",
    "_Sample mean_: $\\bar{y}$ has mean $\\mu$ and standard error $\\sigma_{\\bar{y}}=\\frac{\\sigma}{\\sqrt{n}}$.\n",
    "\n",
    "Central Limit Theorem (CLT).\n",
    "- For random sampling with $n \\geq 30$ the sampling distribution of the sample mean is a normal distribution."
   ]
  }
 ],
 "metadata": {
  "kernelspec": {
   "display_name": "Python 2",
   "language": "python",
   "name": "python2"
  },
  "language_info": {
   "codemirror_mode": {
    "name": "ipython",
    "version": 2
   },
   "file_extension": ".py",
   "mimetype": "text/x-python",
   "name": "python",
   "nbconvert_exporter": "python",
   "pygments_lexer": "ipython2",
   "version": "2.7.11"
  }
 },
 "nbformat": 4,
 "nbformat_minor": 0
}
