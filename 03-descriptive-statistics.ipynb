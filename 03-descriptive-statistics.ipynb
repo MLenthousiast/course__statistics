{
 "cells": [
  {
   "cell_type": "markdown",
   "metadata": {},
   "source": [
    "## Class 3. Descriptive statistics.\n",
    "Graphs.\n",
    "- (Contingency) Table. Qualitative.\n",
    "- Histogram.\n",
    "- Barchart.\n",
    "- Piechart.\n",
    "- Stem-and-leaf plot.\n",
    "- Boxplot. Side-by-side version for mixture of qualitative and quantitative.\n",
    "- Scatterplot. Quantitative.\n",
    "\n",
    "3ms.\n",
    "- mean, median, mode.\n",
    "- For symmetric distributions mean = median. Else the mean is in the direction of the longer tail.\n",
    "- Mean sensative to outliers.\n",
    "\n",
    "Variability.\n",
    "- _Range_: max - min.\n",
    "- _Standard deviation_: typical distance from the mean. ($\\sigma$ or $s$).\n",
    "- _Variance_: $\\sigma^{2} = s^{2} = \\frac{\\sum_{i}^{n}{(x_{i}-\\mu)}^{2}}{n-1}$.\n",
    "\n",
    "Position.\n",
    "- pth percentile is p% of observations below it.\n",
    "\n",
    "Bivariate description.\n",
    "- _Response variable_ (outcome) and _explanatory variable_ (defines groups).\n",
    "\n",
    "Correlation\n",
    "- $-1$ (negative) or $1$ (positive) vs $0$ (none).\n",
    "- Regression equation: $y = ax + b$."
   ]
  }
 ],
 "metadata": {
  "kernelspec": {
   "display_name": "Python 2",
   "language": "python",
   "name": "python2"
  },
  "language_info": {
   "codemirror_mode": {
    "name": "ipython",
    "version": 2
   },
   "file_extension": ".py",
   "mimetype": "text/x-python",
   "name": "python",
   "nbconvert_exporter": "python",
   "pygments_lexer": "ipython2",
   "version": "2.7.11"
  }
 },
 "nbformat": 4,
 "nbformat_minor": 0
}
