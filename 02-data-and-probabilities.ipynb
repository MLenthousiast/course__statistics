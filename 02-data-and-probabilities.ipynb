{
 "cells": [
  {
   "cell_type": "markdown",
   "metadata": {},
   "source": [
    "## Class 2. Data and probabilities.\n",
    "Definitions.\n",
    "- _Sample space_ (uitkomstenruimte) is the collection of all possible outcomes of an experiment.\n",
    "- _Event_ (gebeurtenis) is a subset of the sample space.\n",
    "- _Probability distribution_ (kansverdeling) assigns a value to each possible event.\n",
    "- _Marginal probability_ (marginale kans) is the probability of an event occuring ($p(A)$).\n",
    "- _Joint probability_ (gezamenlijke kans) is the probability of two events occuring at the same time ($p(A,B)$).\n",
    "- _Conditional probability_ (conditionale kans) given event A, what is the probability for event B ($p(B\\mid A)$)?\n",
    "- _Independence_ (onafhankelijkheid) $p(B\\mid A)=p(B)$, so $p(AB)=p(A)p(B)$.\n",
    "- _Sampling error_ (steekproeffout): is the error of the sample statistic wiht regard to the population parameter.\n",
    "- _Bias_ (sytematische fout): systematic sampling error. Nonresponse bias.\n",
    "- _Big data_: $n = all$.\n",
    "\n",
    "Frequentist vs Bayesian.\n",
    "- _Frequentist_: probability tells us what happpens when a experiment is repeated many times.\n",
    "- _Bayesian_: probability tells us what happens when a single experiment is performed.\n",
    "\n",
    "Data collection.\n",
    "- Sample survey.\n",
    "- Experiment.\n",
    "\n",
    "Randomization.\n",
    "- _Simple random sample_ of size $n$: each possible sample of size $n$ as an equal probability of being selected. A sampling frame (list with all subjects of a population) is necessary.\n",
    "- _Probability sampling_: stratified (fixes the underrepresentation of certain groups) and cluster random sampling (fixes feasibility, each cluster is representative of the population).\n",
    "- _Nonprobability sampling_: volunteers for example.\n",
    "\n",
    "Experimental vs observational.\n",
    "- _Experimental_: adjust variables for different groups.\n",
    "- _Observational_: observe."
   ]
  }
 ],
 "metadata": {
  "kernelspec": {
   "display_name": "Python 2",
   "language": "python",
   "name": "python2"
  },
  "language_info": {
   "codemirror_mode": {
    "name": "ipython",
    "version": 2
   },
   "file_extension": ".py",
   "mimetype": "text/x-python",
   "name": "python",
   "nbconvert_exporter": "python",
   "pygments_lexer": "ipython2",
   "version": "2.7.11"
  }
 },
 "nbformat": 4,
 "nbformat_minor": 0
}
