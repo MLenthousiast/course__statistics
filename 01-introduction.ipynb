{
 "cells": [
  {
   "cell_type": "code",
   "execution_count": 17,
   "metadata": {
    "collapsed": true
   },
   "outputs": [],
   "source": [
    "%matplotlib inline\n",
    "import matplotlib.pyplot as plt\n",
    "import seaborn as sns\n",
    "import numpy as np\n",
    "from scipy.stats import norm"
   ]
  },
  {
   "cell_type": "markdown",
   "metadata": {},
   "source": [
    "## Class 1. Introduction.\n",
    "Statistics is about:\n",
    "- Data collection.\n",
    "- Data description.\n",
    "- Inference. Making a prediction about a population using a (representative) sample.  "
   ]
  },
  {
   "cell_type": "markdown",
   "metadata": {},
   "source": [
    "### Parameter vs statistic:\n",
    "- Parameter: numerical summary of the population.\n",
    "- Statistic: numerical summary of the sample."
   ]
  },
  {
   "cell_type": "code",
   "execution_count": 14,
   "metadata": {
    "collapsed": false
   },
   "outputs": [
    {
     "name": "stdout",
     "output_type": "stream",
     "text": [
      "-- Parameters --\n",
      "mean   0.0000\n",
      "stddev 1.0000\n"
     ]
    },
    {
     "data": {
      "image/png": "[encoded data removed]",
      "text/plain": [
       "<matplotlib.figure.Figure at 0x7f088f52a750>"
      ]
     },
     "metadata": {},
     "output_type": "display_data"
    }
   ],
   "source": [
    "# Parameters\n",
    "\n",
    "# Set population parameters.\n",
    "mean_population = 0\n",
    "stddev_population = 1\n",
    "\n",
    "# Print population (parameters).\n",
    "x_population = np.arange(-10, 10, 0.001)\n",
    "y_population = norm.pdf(x_population, mean_population, stddev_population)\n",
    "plt.plot(x_population, y_population);\n",
    "\n",
    "print('-- Parameters --')\n",
    "print('mean   {:.4f}'.format(mean_population))\n",
    "print('stddev {:.4f}'.format(stddev_population))"
   ]
  },
  {
   "cell_type": "code",
   "execution_count": 16,
   "metadata": {
    "collapsed": false
   },
   "outputs": [
    {
     "name": "stdout",
     "output_type": "stream",
     "text": [
      "-- Statistics --\n",
      "mean   0.0365, error -0.0365\n",
      "stddev 0.1096, error 0.1096\n"
     ]
    }
   ],
   "source": [
    "# Statistics\n",
    "\n",
    "# Take a random sample.\n",
    "sample_size = 10\n",
    "y_sample = np.random.choice(y_population, size=sample_size, replace=False)\n",
    "\n",
    "# Determine & print statistics.\n",
    "print('-- Statistics --')\n",
    "\n",
    "mean_sample = np.mean(y_sample)\n",
    "mean_error = mean_population - mean_sample\n",
    "print('mean   {:.4f}, error {:.4f}'.format(mean_sample, mean_error))\n",
    "\n",
    "stddev_sample = np.std(y_sample)\n",
    "stddev_error = stddev_population - stddev_sample\n",
    "print('stddev {:.4f}, error {:.4f}'.format(stddev_sample, stddev_sample))"
   ]
  },
  {
   "cell_type": "markdown",
   "metadata": {},
   "source": [
    "Variable types:\n",
    "- Qualitative/categorical.\n",
    "    - Nominal.\n",
    "    - Ordinal (convertible to interval).\n",
    "- Quantitative.\n",
    "    - Interval. Discrete or continuous."
   ]
  }
 ],
 "metadata": {
  "kernelspec": {
   "display_name": "Python 2",
   "language": "python",
   "name": "python2"
  },
  "language_info": {
   "codemirror_mode": {
    "name": "ipython",
    "version": 2
   },
   "file_extension": ".py",
   "mimetype": "text/x-python",
   "name": "python",
   "nbconvert_exporter": "python",
   "pygments_lexer": "ipython2",
   "version": "2.7.11"
  }
 },
 "nbformat": 4,
 "nbformat_minor": 0
}
