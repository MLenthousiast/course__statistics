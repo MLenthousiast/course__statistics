{
 "cells": [
  {
   "cell_type": "markdown",
   "metadata": {},
   "source": [
    "## Class 1. Introduction.\n",
    "Statistics is about:\n",
    "- Data collection.\n",
    "- Data description.\n",
    "- Inference. Making a prediction about a population using a (representative) sample.  \n",
    "\n",
    "Parameter vs statistic:\n",
    "- Parameter: numerical summary of the population.\n",
    "- Statistic: numerical summary of the sample.\n",
    "\n",
    "Variable types:\n",
    "- Qualitative/categorical.\n",
    "    - Nominal.\n",
    "    - Ordinal (convertible to interval).\n",
    "- Quantitative.\n",
    "    - Interval. Discrete or continuous.\n"
   ]
  }
 ],
 "metadata": {
  "kernelspec": {
   "display_name": "Python 2",
   "language": "python",
   "name": "python2"
  },
  "language_info": {
   "codemirror_mode": {
    "name": "ipython",
    "version": 2
   },
   "file_extension": ".py",
   "mimetype": "text/x-python",
   "name": "python",
   "nbconvert_exporter": "python",
   "pygments_lexer": "ipython2",
   "version": "2.7.11"
  }
 },
 "nbformat": 4,
 "nbformat_minor": 0
}
