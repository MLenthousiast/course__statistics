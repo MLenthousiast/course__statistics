{
 "cells": [
  {
   "cell_type": "markdown",
   "metadata": {},
   "source": [
    "## Class 7. Statistical tests.\n",
    "Significance tests/Hypothesis test.\n",
    "1. Assumptions. Quantitative? Random sampling? Population distribution?\n",
    "1. Hypothesis. $H_{0}$ and $H_{a}$.\n",
    "1. Test statistic. Find number of standard errors between sample estimate and $H_{0}$.\n",
    "1. P-value. Assuming null hypothesis to be true, what is the probability of observing a given sample? The smaller it is, the less confident we are in $H_{0}$.\n",
    "1. Conclusion. Report P-value or set in advance a significance level ($\\alpha$) with a certain value (typically 0.05 or 0.01).\n",
    "\n",
    "Significance test for mean.\n",
    "1. Assumptions.  \n",
    "Randomization, quantitative variable, normal population distribution.\n",
    "1. Hypothesis.  \n",
    "$H_{0}:\\mu=\\mu_{0}$  \n",
    "$H_{a}:\\mu\\neq\\mu_{0}$ thus 2-sided.\n",
    "1. Test statistic.  \n",
    "$t=\\frac{\\bar{y}-\\mu_{0}}{se}$ where $se = \\frac{s}{\\sqrt{n}}$ and $df=n-1$.\n",
    "1. P-value.  \n",
    "Given observed t-value and $df$ find the probability.\n",
    "1. Conclusion.  \n",
    "If greater then $0.05$ then reject $H_{0}$.\n",
    "\n",
    "Note: When P-value $\\leq0.05$ in two-sided, $95\\%$ CI for $\\mu$ does not contain $H_{0}$ value of $\\mu$.\n",
    "\n",
    "Significance test for proportion.\n",
    "1. Assumptions. \n",
    "Categorical variable, randomization, large sample.\n",
    "1. Hypothesis.  \n",
    "$H_{0}:\\pi=\\pi_{0}$  \n",
    "$H_{a}:\\pi\\neq\\pi_{0}$ thus 2-sided.\n",
    "1. Test statistic.  \n",
    "$z = \\frac{\\hat{\\pi}-\\pi_{0}}{\\sigma_{\\hat{pi}}}=\\frac{\\hat{\\pi}-\\pi_{0}}{\\sqrt{\\pi_{0}(1-\\pi_{0})/n}}$  \n",
    "Note: $\\sigma_{\\hat{pi}}=se_{0}=\\sqrt{\\pi_{0}(1-\\pi_{0})/n}$, not $se=\\sqrt{\\hat{\\pi}(1- \\hat{\\pi} )/n}$ as in CI.\n",
    "1. P-value.   \n",
    "1. Conclusion.  \n",
    "Reject $H_{0}$if P-value$\\leq\\alpha$.\n",
    "\n",
    "Error types.  \n",
    "\n",
    "|               | Test result                        |\n",
    "|---------------|----------------|-------------------|\n",
    "| **True state** | Reject $H_{0}$ | No Reject $H_{0}$ |\n",
    "| True $H_{0}$  | Type 1 error   |                   |\n",
    "| False $H_{0}$ |                | Type 2 error      |\n",
    "\n",
    "Significance.\n",
    "Statistical significance is not the same as practical significance.\n",
    "Some test are just by chance significant."
   ]
  }
 ],
 "metadata": {
  "kernelspec": {
   "display_name": "Python 2",
   "language": "python",
   "name": "python2"
  },
  "language_info": {
   "codemirror_mode": {
    "name": "ipython",
    "version": 2
   },
   "file_extension": ".py",
   "mimetype": "text/x-python",
   "name": "python",
   "nbconvert_exporter": "python",
   "pygments_lexer": "ipython2",
   "version": "2.7.11"
  }
 },
 "nbformat": 4,
 "nbformat_minor": 0
}
